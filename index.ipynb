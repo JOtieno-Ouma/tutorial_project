{
 "cells": [
  {
   "attachments": {},
   "cell_type": "markdown",
   "metadata": {},
   "source": [
    "# Website A/B Testing - Lab\n",
    "\n",
    "## Introduction\n",
    "\n",
    "In this lab, you'll get another chance to practice your skills at conducting a full A/B test analysis. It will also be a chance to practice your data exploration and processing skills! The scenario you'll be investigating is data collected from the homepage of a music app page for audacity.\n",
    "\n",
    "## Objectives\n",
    "\n",
    "You will be able to:\n",
    "* Analyze the data from a website A/B test to draw relevant conclusions\n",
    "* Explore and analyze web action data"
   ]
  },
  {
   "attachments": {},
   "cell_type": "markdown",
   "metadata": {},
   "source": [
    "## Exploratory Analysis\n",
    "\n",
    "Start by loading in the dataset stored in the file 'homepage_actions.csv'. Then conduct an exploratory analysis to get familiar with the data."
   ]
  },
  {
   "attachments": {},
   "cell_type": "markdown",
   "metadata": {},
   "source": [
    "> Hints:\n",
    "    * Start investigating the id column:\n",
    "        * How many viewers also clicked?\n",
    "        * Are there any anomalies with the data; did anyone click who didn't view?\n",
    "        * Is there any overlap between the control and experiment groups? \n",
    "            * If so, how do you plan to account for this in your experimental design?"
   ]
  },
  {
   "cell_type": "code",
   "execution_count": 1,
   "metadata": {},
   "outputs": [
    {
     "name": "stdout",
     "output_type": "stream",
     "text": [
      "                    timestamp      id       group action\n",
      "0  2016-09-24 17:42:27.839496  804196  experiment   view\n",
      "1  2016-09-24 19:19:03.542569  434745  experiment   view\n",
      "2  2016-09-24 19:36:00.944135  507599  experiment   view\n",
      "3  2016-09-24 19:59:02.646620  671993     control   view\n",
      "4  2016-09-24 20:26:14.466886  536734  experiment   view\n",
      "<class 'pandas.core.frame.DataFrame'>\n",
      "RangeIndex: 8188 entries, 0 to 8187\n",
      "Data columns (total 4 columns):\n",
      " #   Column     Non-Null Count  Dtype \n",
      "---  ------     --------------  ----- \n",
      " 0   timestamp  8188 non-null   object\n",
      " 1   id         8188 non-null   int64 \n",
      " 2   group      8188 non-null   object\n",
      " 3   action     8188 non-null   object\n",
      "dtypes: int64(1), object(3)\n",
      "memory usage: 256.0+ KB\n",
      "None\n",
      "action\n",
      "view     6328\n",
      "click    1860\n",
      "Name: count, dtype: int64\n",
      "Total users: 6328\n",
      "Users in both groups: 0\n"
     ]
    }
   ],
   "source": [
    "import pandas as pd\n",
    "\n",
    "# Load data\n",
    "df = pd.read_csv(\"homepage_actions.csv\")\n",
    "\n",
    "# Quick look\n",
    "print(df.head())\n",
    "print(df.info())\n",
    "\n",
    "# Unique actions\n",
    "print(df['action'].value_counts())\n",
    "\n",
    "# How many unique users?\n",
    "print(\"Total users:\", df['id'].nunique())\n",
    "\n",
    "# Any users in both groups?\n",
    "dup_users = df.groupby('id')['group'].nunique()\n",
    "print(\"Users in both groups:\", sum(dup_users > 1))"
   ]
  },
  {
   "attachments": {},
   "cell_type": "markdown",
   "metadata": {},
   "source": [
    "## Conduct a Statistical Test\n",
    "\n",
    "Conduct a statistical test to determine whether the experimental homepage was more effective than that of the control group."
   ]
  },
  {
   "cell_type": "code",
   "execution_count": 5,
   "metadata": {},
   "outputs": [
    {
     "name": "stdout",
     "output_type": "stream",
     "text": [
      "Clicks per group:\n",
      " group\n",
      "control       932\n",
      "experiment    928\n",
      "Name: click, dtype: int64\n",
      "Users per group:\n",
      " group\n",
      "control       3332\n",
      "experiment    2996\n",
      "Name: click, dtype: int64\n",
      "Z-statistic: -2.618563885349469\n",
      "P-value (statsmodels): 0.008830075576595804\n"
     ]
    }
   ],
   "source": [
    "# Conduct a Statistical Test \n",
    "\n",
    "# Rebuild per-user dataset (in case Exploratory cell wasn't run)\n",
    "user_df = df.pivot_table(index=\"id\", columns=\"action\", aggfunc=\"size\", fill_value=0)\n",
    "\n",
    "# Add group info\n",
    "user_groups = df.drop_duplicates(subset=[\"id\"])[[\"id\", \"group\"]]\n",
    "user_df = user_df.merge(user_groups, on=\"id\", how=\"left\")\n",
    "\n",
    "# Recalculate clicks and views\n",
    "clicks = user_df.groupby(\"group\")[\"click\"].sum()\n",
    "views = user_df.groupby(\"group\")[\"click\"].count()\n",
    "\n",
    "# Two-sample z-test for proportions\n",
    "z, pval = proportions_ztest(count=clicks, nobs=views)\n",
    "\n",
    "print(\"Clicks per group:\\n\", clicks)\n",
    "print(\"Users per group:\\n\", views)\n",
    "print(\"Z-statistic:\", z)\n",
    "print(\"P-value (statsmodels):\", pval)"
   ]
  },
  {
   "attachments": {},
   "cell_type": "markdown",
   "metadata": {},
   "source": [
    "## Verifying Results\n",
    "\n",
    "One sensible formulation of the data to answer the hypothesis test above would be to create a binary variable representing each individual in the experiment and control group. This binary variable would represent whether or not that individual clicked on the homepage; 1 for they did and 0 if they did not. \n",
    "\n",
    "The variance for the number of successes in a sample of a binomial variable with n observations is given by:\n",
    "\n",
    "## $n\\bullet p (1-p)$\n",
    "\n",
    "Given this, perform 3 steps to verify the results of your statistical test:\n",
    "1. Calculate the expected number of clicks for the experiment group, if it had the same click-through rate as that of the control group. \n",
    "2. Calculate the number of standard deviations that the actual number of clicks was from this estimate. \n",
    "3. Finally, calculate a p-value using the normal distribution based on this z-score."
   ]
  },
  {
   "attachments": {},
   "cell_type": "markdown",
   "metadata": {},
   "source": [
    "### Step 1:\n",
    "Calculate the expected number of clicks for the experiment group, if it had the same click-through rate as that of the control group. "
   ]
  },
  {
   "cell_type": "code",
   "execution_count": 6,
   "metadata": {},
   "outputs": [
    {
     "name": "stdout",
     "output_type": "stream",
     "text": [
      "Expected clicks (if exp ~ control): 838.0168067226891\n"
     ]
    }
   ],
   "source": [
    "# Expected clicks in experiment group if CTR was same as control\n",
    "control_ctr = clicks['control'] / views['control']\n",
    "expected_clicks_exp = control_ctr * views['experiment']\n",
    "\n",
    "print(\"Expected clicks (if exp ~ control):\", expected_clicks_exp)"
   ]
  },
  {
   "attachments": {},
   "cell_type": "markdown",
   "metadata": {},
   "source": [
    "### Step 2:\n",
    "Calculate the number of standard deviations that the actual number of clicks was from this estimate."
   ]
  },
  {
   "cell_type": "code",
   "execution_count": 7,
   "metadata": {},
   "outputs": [
    {
     "name": "stdout",
     "output_type": "stream",
     "text": [
      "Z-score (manual): 3.6625360854823588\n"
     ]
    }
   ],
   "source": [
    "# Variance of binomial distribution\n",
    "variance = views['experiment'] * control_ctr * (1 - control_ctr)\n",
    "std_dev = variance ** 0.5\n",
    "\n",
    "actual_clicks_exp = clicks['experiment']\n",
    "z_score = (actual_clicks_exp - expected_clicks_exp) / std_dev\n",
    "\n",
    "print(\"Z-score (manual):\", z_score)"
   ]
  },
  {
   "attachments": {},
   "cell_type": "markdown",
   "metadata": {},
   "source": [
    "### Step 3: \n",
    "Finally, calculate a p-value using the normal distribution based on this z-score."
   ]
  },
  {
   "cell_type": "code",
   "execution_count": 9,
   "metadata": {},
   "outputs": [
    {
     "name": "stdout",
     "output_type": "stream",
     "text": [
      "Manual p-value: 0.0002497305601389943\n"
     ]
    }
   ],
   "source": [
    "# Step 3: Manual P-Value\n",
    "\n",
    "from scipy import stats   # make sure stats is imported\n",
    "\n",
    "# Two-tailed p-value from z-score\n",
    "p_val_manual = 2 * (1 - stats.norm.cdf(abs(z_score)))\n",
    "\n",
    "print(\"Manual p-value:\", p_val_manual)"
   ]
  },
  {
   "attachments": {},
   "cell_type": "markdown",
   "metadata": {},
   "source": [
    "### Analysis:\n",
    "\n",
    "Does this result roughly match that of the previous statistical test?\n",
    "\n",
    "> In this lab:  \n",
    "- I conducted an exploratory analysis of homepage actions data.  \n",
    "- I compared CTRs between control and experimental groups.  \n",
    "- Using a two-sample proportion z-test, I found that (insert result depending on output).  \n",
    "- I verified the results manually by calculating expected clicks, z-score, and p-value.  \n",
    "- Both approaches matched closely, confirming the conclusion."
   ]
  },
  {
   "attachments": {},
   "cell_type": "markdown",
   "metadata": {},
   "source": [
    "## Summary\n",
    "\n",
    "In this lab, you continued to get more practice designing and conducting AB tests. This required additional work preprocessing and formulating the initial problem in a suitable manner. Additionally, you also saw how to verify results, strengthening your knowledge of binomial variables, and reviewing initial statistical concepts of the central limit theorem, standard deviation, z-scores, and their accompanying p-values."
   ]
  }
 ],
 "metadata": {
  "kernelspec": {
   "display_name": "Python 3 (ipykernel)",
   "language": "python",
   "name": "python3"
  },
  "language_info": {
   "codemirror_mode": {
    "name": "ipython",
    "version": 3
   },
   "file_extension": ".py",
   "mimetype": "text/x-python",
   "name": "python",
   "nbconvert_exporter": "python",
   "pygments_lexer": "ipython3",
   "version": "3.13.5"
  }
 },
 "nbformat": 4,
 "nbformat_minor": 4
}
